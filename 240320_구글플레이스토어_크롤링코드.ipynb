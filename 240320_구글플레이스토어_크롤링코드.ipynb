{
  "nbformat": 4,
  "nbformat_minor": 0,
  "metadata": {
    "colab": {
      "provenance": [],
      "include_colab_link": true
    },
    "kernelspec": {
      "name": "python3",
      "display_name": "Python 3"
    },
    "language_info": {
      "name": "python"
    }
  },
  "cells": [
    {
      "cell_type": "markdown",
      "metadata": {
        "id": "view-in-github",
        "colab_type": "text"
      },
      "source": [
        "<a href=\"https://colab.research.google.com/github/yu-hyeri/first-project/blob/main/240320_%EA%B5%AC%EA%B8%80%ED%94%8C%EB%A0%88%EC%9D%B4%EC%8A%A4%ED%86%A0%EC%96%B4_%ED%81%AC%EB%A1%A4%EB%A7%81%EC%BD%94%EB%93%9C.ipynb\" target=\"_parent\"><img src=\"https://colab.research.google.com/assets/colab-badge.svg\" alt=\"Open In Colab\"/></a>"
      ]
    },
    {
      "cell_type": "code",
      "execution_count": null,
      "metadata": {
        "colab": {
          "base_uri": "https://localhost:8080/"
        },
        "id": "h5_q9rcCgESv",
        "outputId": "2350b461-e57c-4f4d-ad2d-37a2c9560b51"
      },
      "outputs": [
        {
          "output_type": "stream",
          "name": "stdout",
          "text": [
            "Requirement already satisfied: google_play_scraper in /usr/local/lib/python3.10/dist-packages (1.2.6)\n"
          ]
        }
      ],
      "source": [
        "# google_play_scraper 라이브러리 설치: 구글 플레이스토어에서 데이터를 쉽게 가져올 수 있게 해줍니다.\n",
        "!pip install google_play_scraper"
      ]
    },
    {
      "cell_type": "code",
      "source": [
        "# google_play_scraper에서 필요한 기능과 정렬 방식을 가져옵니다.\n",
        "from google_play_scraper import Sort, reviews_all\n",
        "from datetime import datetime\n",
        "import pandas as pd\n",
        "\n",
        "\n",
        "# 'lang'은 리뷰를 가져올 언어를 설정합니다. 여기서는 'ko'로 설정하여 한국어 리뷰를 가져옵니다.\n",
        "lang = 'ko'\n",
        "\n",
        "# 'cont'는 리뷰를 가져올 국가를 설정합니다. 여기서는 'kr'로 설정하여 한국에서의 리뷰를 가져옵니다.\n",
        "cont = 'kr'\n",
        "\n",
        "\n",
        "# reviews_all 함수를 사용해 앱의 리뷰를 모두 가져옵니다. 이 예에서는 'com.hanbit.rundayfree'라는 앱의 리뷰를 가져옵니다.\n",
        "result = reviews_all(\n",
        "    'com.cultsotry.yanolja.nativeapp',\n",
        "    sleep_milliseconds=3000, # 리뷰를 가져오는 사이의 대기 시간을 설정합니다. 0으로 설정하여 대기하지 않습니다.\n",
        "    lang=lang, # 리뷰의 언어를 설정합니다. 여기서는 위에서 설정한 'ko'(한국어)입니다.\n",
        "    country=cont, # 리뷰를 가져올 국가를 설정합니다. 여기서는 위에서 설정한 'kr'(한국)입니다.\n",
        "    sort=Sort.MOST_RELEVANT, # 리뷰를 어떤 기준으로 정렬할지 설정합니다. 가장 관련성 높은 순으로 정렬합니다.\n",
        "    filter_score_with=5 #평점이 5점인 리뷰만 크롤링\n",
        ")\n",
        "\n",
        "\n",
        "\n",
        "\n",
        "# 수집하고자 하는 특정 기간 설정\n",
        "start_date = datetime(2018,1,1)\n",
        "end_date = datetime(2023,3,18)\n",
        "\n",
        "# 수집된 리뷰 데이터를 저장할 리스트 초기화\n",
        "reviews_data = []\n",
        "\n",
        "# 수집된 리뷰에 대해 반복하며 필요한 정보를 리스트에 저장\n",
        "for item in result:\n",
        "    # 리뷰 날짜가 지정된 기간 안에 있는지 확인\n",
        "    if start_date <= item['at'] <= end_date:\n",
        "        # 리뷰 정보를 딕셔너리 형태로 저장\n",
        "        review = {\n",
        "            'date': item['at'],\n",
        "            'userName': item['userName'],\n",
        "            'score': item['score'],\n",
        "            'content': item['content']\n",
        "        }\n",
        "        reviews_data.append(review)\n",
        "\n",
        "# 리스트를 pandas DataFrame으로 변환\n",
        "df_reviews = pd.DataFrame(reviews_data)\n",
        "print(len(df_reviews))\n",
        "\n",
        "# 리뷰 데이터를 CSV 파일로 저장\n",
        "csv_filename = 'reviews_20230301_to_20230318.csv'  # 파일 이름에 기간을 포함시켰습니다.\n",
        "\n",
        "df_reviews.to_csv(csv_filename, index=False, encoding='utf-8-sig')\n",
        "\n",
        "print(f'Reviews saved to {csv_filename}')\n"
      ],
      "metadata": {
        "colab": {
          "base_uri": "https://localhost:8080/"
        },
        "id": "_zjYas7TgeYr",
        "outputId": "2b06b167-6877-40c6-a18d-be31cd4aafcb"
      },
      "execution_count": null,
      "outputs": [
        {
          "output_type": "stream",
          "name": "stdout",
          "text": [
            "42\n",
            "Reviews saved to reviews_20230301_to_20230318.csv\n"
          ]
        }
      ]
    }
  ]
}